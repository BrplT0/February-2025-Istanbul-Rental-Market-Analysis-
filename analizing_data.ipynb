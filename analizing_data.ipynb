{
 "cells": [
  {
   "metadata": {},
   "cell_type": "code",
   "outputs": [],
   "execution_count": null,
   "source": [
    "import pandas as pd\n",
    "import numpy as np\n",
    "import matplotlib.pyplot as plt\n",
    "import seaborn as sns\n",
    "import data_cleaning_functions as dcf\n",
    "\n",
    "df = pd.read_csv(\"data/istanbulApartmentForRent.csv\")\n",
    "pd.set_option('display.float_format', '{:.2f}'.format)"
   ],
   "id": "162ef144080a730b"
  },
  {
   "metadata": {},
   "cell_type": "code",
   "source": "df",
   "id": "6a8ad0f7204bf7c2",
   "outputs": [],
   "execution_count": null
  },
  {
   "metadata": {},
   "cell_type": "code",
   "source": "df.info()",
   "id": "da877551af3e2b5e",
   "outputs": [],
   "execution_count": null
  },
  {
   "metadata": {},
   "cell_type": "code",
   "source": "df.describe()",
   "id": "2a6f22a9db5e4be0",
   "outputs": [],
   "execution_count": null
  },
  {
   "metadata": {},
   "cell_type": "code",
   "source": "df.columns",
   "id": "c290cff46c249f59",
   "outputs": [],
   "execution_count": null
  },
  {
   "metadata": {},
   "cell_type": "code",
   "source": "df.isna().sum()",
   "id": "4d16228246fc120c",
   "outputs": [],
   "execution_count": null
  },
  {
   "metadata": {},
   "cell_type": "code",
   "source": "df.groupby([\"neighborhood\"])[\"price\"].agg([\"sum\", \"min\", \"max\", \"mean\"])",
   "id": "6d3e205312fd71a3",
   "outputs": [],
   "execution_count": null
  },
  {
   "metadata": {},
   "cell_type": "code",
   "source": [
    "numeric_cols = df.select_dtypes(include=['float64', 'int64']).columns\n",
    "\n",
    "for col in numeric_cols:\n",
    "    print(f\"{col}\")\n",
    "    print(df[col].agg([\"mean\", \"median\", \"std\", \"max\", \"min\"]))\n",
    "    print(\" \")"
   ],
   "id": "dcab93a2abe19ab6",
   "outputs": [],
   "execution_count": null
  },
  {
   "metadata": {},
   "cell_type": "code",
   "source": [
    "fig, axes = plt.subplots(2, 5, figsize=(20, 12))\n",
    "axes = axes.ravel()\n",
    "\n",
    "for i, col in enumerate(numeric_cols):\n",
    "    sns.boxplot(data=df, y=col, ax=axes[i])\n",
    "    axes[i].set_title(col)"
   ],
   "id": "a98dbdb5d3f8fe73",
   "outputs": [],
   "execution_count": null
  },
  {
   "metadata": {},
   "cell_type": "code",
   "source": [
    "changing_cols = [col for col in numeric_cols if col != \"price\"]\n",
    "\n",
    "for col in changing_cols:\n",
    "    df[col] = dcf.clean_outliers(df[col])"
   ],
   "id": "b3a29e363db541eb",
   "outputs": [],
   "execution_count": null
  },
  {
   "metadata": {},
   "cell_type": "code",
   "source": [
    "fig, axes = plt.subplots(2, 5, figsize=(20, 12))\n",
    "axes = axes.ravel()\n",
    "\n",
    "for i, col in enumerate(numeric_cols):\n",
    "    sns.boxplot(data=df, y=col, ax=axes[i])\n",
    "    axes[i].set_title(col)"
   ],
   "id": "168fae8b4f3bd354",
   "outputs": [],
   "execution_count": null
  },
  {
   "metadata": {},
   "cell_type": "code",
   "source": [
    "for col in numeric_cols:\n",
    "    print(f\"{col.upper()}\")\n",
    "    print(df[col].agg([\"mean\", \"median\", \"std\", \"max\", \"min\"]))\n",
    "    print(\" \")"
   ],
   "id": "8dc80f0388483128",
   "outputs": [],
   "execution_count": null
  },
  {
   "metadata": {},
   "cell_type": "code",
   "source": "df.price",
   "id": "7cae933362a5abdc",
   "outputs": [],
   "execution_count": null
  },
  {
   "metadata": {},
   "cell_type": "code",
   "source": [
    "print(df['price'].describe())\n",
    "print(f\"99. percentile: {df['price'].quantile(0.99)}\")\n",
    "print(f\"99.9. percentile: {df['price'].quantile(0.999)}\")"
   ],
   "id": "e52b9a88d3724247",
   "outputs": [],
   "execution_count": null
  },
  {
   "metadata": {},
   "cell_type": "code",
   "source": [
    "df[\"m2 price\"] = df[\"price\"] / df[\"area (m2)\"]\n",
    "df"
   ],
   "id": "763e24e1113bc024",
   "outputs": [],
   "execution_count": null
  },
  {
   "metadata": {},
   "cell_type": "code",
   "source": [
    "df[\"house_value\"] = (df[\"room\"] * df[\"m2 price\"]) / df[\"age\"].replace(0, 1)\n",
    "df"
   ],
   "id": "87f457e02bb5cd9e",
   "outputs": [],
   "execution_count": null
  },
  {
   "metadata": {},
   "cell_type": "code",
   "source": [
    "grouped = df.groupby(['district', 'neighborhood'])['house_value'].agg(['mean', 'median', 'count'])\n",
    "grouped"
   ],
   "id": "72ff17e56d09fb97",
   "outputs": [],
   "execution_count": null
  },
  {
   "metadata": {},
   "cell_type": "code",
   "source": [
    "fig, axes = plt.subplots(2, 5, figsize=(20, 12))\n",
    "axes = axes.ravel()\n",
    "\n",
    "for i, col in enumerate(numeric_cols):\n",
    "    sns.boxplot(data=df, y=col, ax=axes[i])\n",
    "    axes[i].set_title(col)"
   ],
   "id": "7b084c6e4665125f",
   "outputs": [],
   "execution_count": null
  },
  {
   "metadata": {},
   "cell_type": "code",
   "source": [
    "def remove_outliers_aggressive(df):\n",
    "    df_clean = df.copy()\n",
    "    \n",
    "    # District ortalamaları\n",
    "    district_means = df.groupby('district')['house_value'].mean()\n",
    "    district_stds = df.groupby('district')['house_value'].std()\n",
    "    \n",
    "    for (district, neighborhood), group in df.groupby(['district', 'neighborhood']):\n",
    "        \n",
    "        if len(group) >= 4:  # Mahalle bazında\n",
    "            mean_val = group['house_value'].mean()\n",
    "            std_val = group['house_value'].std()\n",
    "            \n",
    "            # Daha sıkı sınırlar (1.5 standart sapma)\n",
    "            lower_bound = mean_val - 1.5 * std_val\n",
    "            upper_bound = mean_val + 1.5 * std_val\n",
    "            \n",
    "            outliers = (group['house_value'] < lower_bound) | (group['house_value'] > upper_bound)\n",
    "            \n",
    "            if outliers.any():\n",
    "                df_clean.loc[group.index[outliers], 'house_value'] = mean_val\n",
    "                \n",
    "        else:  # District bazında\n",
    "            district_mean = district_means[district]\n",
    "            district_std = district_stds[district]\n",
    "            \n",
    "            # District için de aykırı kontrolü\n",
    "            lower_bound = district_mean - 1.5 * district_std\n",
    "            upper_bound = district_mean + 1.5 * district_std\n",
    "            \n",
    "            for idx in group.index:\n",
    "                if (df_clean.loc[idx, 'house_value'] < lower_bound) or (df_clean.loc[idx, 'house_value'] > upper_bound):\n",
    "                    df_clean.loc[idx, 'house_value'] = district_mean\n",
    "    \n",
    "    return df_clean\n",
    "\n",
    "df_clean = remove_outliers_aggressive(df)"
   ],
   "id": "fd32209b4b12ee80",
   "outputs": [],
   "execution_count": null
  },
  {
   "metadata": {},
   "cell_type": "code",
   "source": [
    "grouped = df.groupby(['district', 'neighborhood'])['house_value'].agg(['mean', 'median', 'count', 'min', 'max'])\n",
    "grouped"
   ],
   "id": "3480d18803397600",
   "outputs": [],
   "execution_count": null
  },
  {
   "metadata": {},
   "cell_type": "code",
   "source": [
    "grouped = df_clean.groupby(['district', 'neighborhood'])['house_value'].agg(['mean', 'median', 'count', 'min', 'max'])\n",
    "grouped"
   ],
   "id": "b5123e38b42de6ee",
   "outputs": [],
   "execution_count": null
  },
  {
   "metadata": {},
   "cell_type": "code",
   "source": "sns.boxplot(data=df_clean, x=df_clean.house_value)",
   "id": "d5c39c79e052d9de",
   "outputs": [],
   "execution_count": null
  },
  {
   "metadata": {},
   "cell_type": "code",
   "source": [
    "# En üst %5 ve en alt %5'i kırp\n",
    "df_clean['house_value'] = df_clean['house_value'].clip(\n",
    "    lower=df['house_value'].quantile(0.05),\n",
    "    upper=df['house_value'].quantile(0.95)\n",
    ")"
   ],
   "id": "9949f37335c59bc7",
   "outputs": [],
   "execution_count": null
  },
  {
   "metadata": {},
   "cell_type": "code",
   "source": "sns.boxplot(data=df_clean, x=df_clean.house_value)",
   "id": "b94220e2d9c06164",
   "outputs": [],
   "execution_count": null
  },
  {
   "metadata": {},
   "cell_type": "code",
   "source": [
    "def remove_outliers_aggressive(df):\n",
    "    df_clean = df.copy()\n",
    "    \n",
    "    # District ortalamaları\n",
    "    district_means = df.groupby('district')['house_value'].mean()\n",
    "    district_stds = df.groupby('district')['house_value'].std()\n",
    "    \n",
    "    for (district, neighborhood), group in df.groupby(['district', 'neighborhood']):\n",
    "        \n",
    "        if len(group) >= 4:  # Mahalle bazında\n",
    "            mean_val = group['house_value'].mean()\n",
    "            std_val = group['house_value'].std()\n",
    "            \n",
    "            # Daha sıkı sınırlar (1.5 standart sapma)\n",
    "            lower_bound = mean_val - 1.5 * std_val\n",
    "            upper_bound = mean_val + 1.5 * std_val\n",
    "            \n",
    "            outliers = (group['house_value'] < lower_bound) | (group['house_value'] > upper_bound)\n",
    "            \n",
    "            if outliers.any():\n",
    "                df_clean.loc[group.index[outliers], 'house_value'] = mean_val\n",
    "                \n",
    "        else:  # District bazında\n",
    "            district_mean = district_means[district]\n",
    "            district_std = district_stds[district]\n",
    "            \n",
    "            # District için de aykırı kontrolü\n",
    "            lower_bound = district_mean - 1.5 * district_std\n",
    "            upper_bound = district_mean + 1.5 * district_std\n",
    "            \n",
    "            for idx in group.index:\n",
    "                if (df_clean.loc[idx, 'house_value'] < lower_bound) or (df_clean.loc[idx, 'house_value'] > upper_bound):\n",
    "                    df_clean.loc[idx, 'house_value'] = district_mean\n",
    "    \n",
    "    return df_clean\n",
    "\n",
    "df_clean2 = remove_outliers_aggressive(df_clean)"
   ],
   "id": "421869c245bb0543",
   "outputs": [],
   "execution_count": null
  },
  {
   "metadata": {},
   "cell_type": "code",
   "source": "sns.boxplot(data=df_clean, x=df_clean2.house_value)",
   "id": "3d1c6b1ccd48aae7",
   "outputs": [],
   "execution_count": null
  },
  {
   "metadata": {},
   "cell_type": "code",
   "source": [
    "# En üst %5 ve en alt %5'i kırp\n",
    "df_clean2['house_value'] = df_clean2['house_value'].clip(\n",
    "    lower=df_clean2['house_value'].quantile(0.05),\n",
    "    upper=df_clean2['house_value'].quantile(0.95)\n",
    ")"
   ],
   "id": "775d6668f1289b61",
   "outputs": [],
   "execution_count": null
  },
  {
   "metadata": {},
   "cell_type": "code",
   "source": "sns.boxplot(data=df_clean2, x=df_clean2.house_value)",
   "id": "f304922c993be7bc",
   "outputs": [],
   "execution_count": null
  },
  {
   "metadata": {},
   "cell_type": "code",
   "source": "df_clean2",
   "id": "2c6ce335c6cc81a9",
   "outputs": [],
   "execution_count": null
  },
  {
   "metadata": {},
   "cell_type": "code",
   "source": [
    "df_clean2[\"m2 price\"] = (df_clean2[\"house_value\"] * df_clean2[\"age\"].replace(0, 1)) / df_clean2[\"room\"]\n",
    "df_clean2"
   ],
   "id": "2197d9d4c0fce969",
   "outputs": [],
   "execution_count": null
  },
  {
   "metadata": {},
   "cell_type": "code",
   "source": [
    "df_clean2[\"price\"] = df[\"m2 price\"] * df_clean2[\"area (m2)\"]\n",
    "df_clean2"
   ],
   "id": "9345d55b79319dc1",
   "outputs": [],
   "execution_count": null
  }
 ],
 "metadata": {
  "kernelspec": {
   "display_name": "Python 3",
   "language": "python",
   "name": "python3"
  },
  "language_info": {
   "codemirror_mode": {
    "name": "ipython",
    "version": 2
   },
   "file_extension": ".py",
   "mimetype": "text/x-python",
   "name": "python",
   "nbconvert_exporter": "python",
   "pygments_lexer": "ipython2",
   "version": "2.7.6"
  }
 },
 "nbformat": 4,
 "nbformat_minor": 5
}
